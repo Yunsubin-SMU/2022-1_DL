{
 "cells": [
  {
   "cell_type": "code",
   "execution_count": 16,
   "id": "0ff7d2bd",
   "metadata": {},
   "outputs": [
    {
     "name": "stdout",
     "output_type": "stream",
     "text": [
      "정수: 3, 03, 003, 0003, 00003\n",
      "실수: 256, 256.1, 256.12\n",
      "문자열: [Hello world]\n"
     ]
    }
   ],
   "source": [
    "# print(\"Hello world\")\n",
    "\n",
    "# integer\n",
    "x=3\n",
    "print(\"정수: %01d, %02d, %03d, %04d, %05d\" %(x, x, x, x, x))\n",
    "\n",
    "# float\n",
    "x=256.123\n",
    "print(\"실수: %.0f, %.1f, %.2f\" %(x, x, x))\n",
    "\n",
    "# string\n",
    "x = \"Hello world\"\n",
    "print(\"문자열: [%s]\" %(x))"
   ]
  },
  {
   "cell_type": "code",
   "execution_count": 17,
   "id": "c0f5665e",
   "metadata": {},
   "outputs": [
    {
     "name": "stdout",
     "output_type": "stream",
     "text": [
      "Regression은(는) 기계학습 내용입니다.\n",
      "Classification은(는) 기계학습 내용입니다.\n",
      "SVM은(는) 기계학습 내용입니다.\n",
      "Clustering은(는) 기계학습 내용입니다.\n",
      "Demension reduction은(는) 기계학습 내용입니다.\n",
      "NN은(는) 심층학습 내용입니다.\n",
      "CNN은(는) convolutional neural network 입니다.\n",
      "AE은(는) 심층학습 내용입니다.\n",
      "GAN은(는) 심층학습 내용입니다.\n",
      "RNN은(는) 심층학습 내용입니다.\n"
     ]
    }
   ],
   "source": [
    "contents = [\"Regression\", \"Classification\", \"SVM\", \"Clustering\", \"Demension reduction\", \"NN\", \"CNN\", \"AE\", \"GAN\", \"RNN\"]\n",
    "\n",
    "for con in contents:\n",
    "    if con in [\"Regression\", \"Classification\", \"SVM\", \"Clustering\", \"Demension reduction\"]:\n",
    "               print(\"%s은(는) 기계학습 내용입니다.\" %(con))\n",
    "    elif con in [\"CNN\"]:\n",
    "               print(\"%s은(는) convolutional neural network 입니다.\" %(con))\n",
    "    else:\n",
    "               print(\"%s은(는) 심층학습 내용입니다.\" %(con))\n",
    "               "
   ]
  },
  {
   "cell_type": "code",
   "execution_count": 5,
   "id": "6f5d3c1e",
   "metadata": {},
   "outputs": [
    {
     "name": "stdout",
     "output_type": "stream",
     "text": [
      "[0/10]: Regression\n",
      "[1/10]: Classification\n",
      "[2/10]: SVM\n",
      "[3/10]: Clustering\n",
      "[4/10]: Demension reduction\n",
      "[5/10]: NN\n",
      "[6/10]: CNN\n",
      "[7/10]: AE\n",
      "[8/10]: GAN\n",
      "[9/10]: RNN\n"
     ]
    }
   ],
   "source": [
    "for(i, con) in enumerate(contents): \n",
    "    print(\"[%d/%d]: %s\" %(i, len(contents), con))"
   ]
  },
  {
   "cell_type": "code",
   "execution_count": 7,
   "id": "1f3319a3",
   "metadata": {},
   "outputs": [
    {
     "name": "stdout",
     "output_type": "stream",
     "text": [
      "10.0 + 20.0 = 30.0\n"
     ]
    }
   ],
   "source": [
    "def sum(a,b):\n",
    "    return a+b\n",
    "x=10.0\n",
    "y=20.0\n",
    "print(\"%.1f + %.1f = %.1f\" %(x, y, sum(x,y)))"
   ]
  },
  {
   "cell_type": "code",
   "execution_count": 10,
   "id": "3841ca95",
   "metadata": {},
   "outputs": [
    {
     "name": "stdout",
     "output_type": "stream",
     "text": [
      "[]\n",
      "['a']\n",
      "['a', 123]\n",
      "['a', 123, ['a', 'b']]\n"
     ]
    }
   ],
   "source": [
    "a=[]\n",
    "b=[1,2,3]\n",
    "c=[\"Hello\", \",\", \"world\"]\n",
    "d=[1,2,3,\"x\",\"y\",\"z\"]\n",
    "x=[]\n",
    "print(x)\n",
    "\n",
    "x.append('a')\n",
    "print(x)\n",
    "\n",
    "x.append(123)\n",
    "print(x)\n",
    "\n",
    "x.append([\"a\",\"b\"])\n",
    "print(x)"
   ]
  },
  {
   "cell_type": "code",
   "execution_count": 11,
   "id": "8be89d6e",
   "metadata": {},
   "outputs": [
    {
     "name": "stdout",
     "output_type": "stream",
     "text": [
      "{'town': 'Goyang city', 'job': 'Assistant professor', 'name': 'Heekyung'}\n"
     ]
    }
   ],
   "source": [
    "dic=dict()\n",
    "dic['name']=\"Heekyung\"\n",
    "dic['town']=\"Goyang city\"\n",
    "dic[\"job\"]=\"Assistant professor\"\n",
    "print dic"
   ]
  },
  {
   "cell_type": "code",
   "execution_count": 12,
   "id": "75b01493",
   "metadata": {},
   "outputs": [
    {
     "name": "stdout",
     "output_type": "stream",
     "text": [
      "Heekyung 학생은 공부합니다.\n",
      "Heekyung 학생은 열심히 공부합니다.\n"
     ]
    }
   ],
   "source": [
    "class Student:\n",
    "    # 생성자\n",
    "    def __init__(self, name):\n",
    "        self.name=name\n",
    "    # 메서드\n",
    "    def study(self, hard=False):\n",
    "        if hard:\n",
    "            print \"%s 학생은 열심히 공부합니다.\" %self.name\n",
    "        else:\n",
    "            print \"%s 학생은 공부합니다.\" %self.name\n",
    "\n",
    "s=Student('Heekyung')\n",
    "s.study()\n",
    "s.study(hard=True)"
   ]
  },
  {
   "cell_type": "code",
   "execution_count": 25,
   "id": "7b02aeb2",
   "metadata": {},
   "outputs": [
    {
     "name": "stdout",
     "output_type": "stream",
     "text": [
      "Type: <type 'numpy.ndarray'>\n",
      "Shape: (3,)\n",
      "값:\n",
      "[1 2 3]\n",
      " \n"
     ]
    }
   ],
   "source": [
    "import numpy as np\n",
    "\n",
    "# rank 1 np array\n",
    "def print_val(x):\n",
    "    print \"Type:\", type(x)\n",
    "    print \"Shape:\", x.shape\n",
    "    print \"값:\\n\", x\n",
    "    print \" \"\n",
    "\n",
    "x=np.array([1,2,3])\n",
    "print_val(x)"
   ]
  },
  {
   "cell_type": "code",
   "execution_count": 28,
   "id": "290778b2",
   "metadata": {},
   "outputs": [
    {
     "name": "stdout",
     "output_type": "stream",
     "text": [
      "Type: <type 'numpy.ndarray'>\n",
      "Shape: (3,)\n",
      "값:\n",
      "[5 2 3]\n",
      " \n"
     ]
    }
   ],
   "source": [
    "x[0]=5\n",
    "print_val(x)"
   ]
  },
  {
   "cell_type": "code",
   "execution_count": 27,
   "id": "6ce166d3",
   "metadata": {},
   "outputs": [
    {
     "name": "stdout",
     "output_type": "stream",
     "text": [
      "Type: <type 'numpy.ndarray'>\n",
      "Shape: (2, 3)\n",
      "값:\n",
      "[[1 2 3]\n",
      " [4 5 6]]\n",
      " \n"
     ]
    }
   ],
   "source": [
    "# rank 2 np array\n",
    "y=np.array([[1,2,3],[4,5,6,]])\n",
    "print_val(y)"
   ]
  },
  {
   "cell_type": "code",
   "execution_count": 16,
   "id": "7c4143b4",
   "metadata": {},
   "outputs": [
    {
     "name": "stdout",
     "output_type": "stream",
     "text": [
      "Type: <type 'numpy.ndarray'>\n",
      "Shape: (3, 2)\n",
      "값:\n",
      "[[1. 1.]\n",
      " [1. 1.]\n",
      " [1. 1.]]\n",
      " \n"
     ]
    }
   ],
   "source": [
    "# rank 2 ones\n",
    "a=np.ones((3,2))\n",
    "print_val(a)"
   ]
  },
  {
   "cell_type": "code",
   "execution_count": 18,
   "id": "27a74f11",
   "metadata": {},
   "outputs": [
    {
     "name": "stdout",
     "output_type": "stream",
     "text": [
      "Type: <type 'numpy.ndarray'>\n",
      "Shape: (2, 2)\n",
      "값:\n",
      "[[0. 0.]\n",
      " [0. 0.]]\n",
      " \n"
     ]
    }
   ],
   "source": [
    "# rank 2 zeros\n",
    "a=np.zeros((2,2))\n",
    "print_val(a)"
   ]
  },
  {
   "cell_type": "code",
   "execution_count": 20,
   "id": "e2b1db96",
   "metadata": {},
   "outputs": [
    {
     "name": "stdout",
     "output_type": "stream",
     "text": [
      "Type: <type 'numpy.ndarray'>\n",
      "Shape: (3, 3)\n",
      "값:\n",
      "[[1. 0. 0.]\n",
      " [0. 1. 0.]\n",
      " [0. 0. 1.]]\n",
      " \n"
     ]
    }
   ],
   "source": [
    "# rank 2 identity matrix\n",
    "a=np.eye(3,3)\n",
    "print_val(a)"
   ]
  },
  {
   "cell_type": "code",
   "execution_count": 29,
   "id": "314c3392",
   "metadata": {},
   "outputs": [
    {
     "name": "stdout",
     "output_type": "stream",
     "text": [
      "Type: <type 'numpy.ndarray'>\n",
      "Shape: (4, 4)\n",
      "값:\n",
      "[[0.54642197 0.3365088  0.03669725 0.68701316]\n",
      " [0.20115888 0.45924841 0.98948994 0.13028196]\n",
      " [0.81929132 0.24123937 0.17436971 0.38419158]\n",
      " [0.19415466 0.88600539 0.20067442 0.17346872]]\n",
      " \n"
     ]
    }
   ],
   "source": [
    "# 랜덤행렬(uniform: 0~1 사이 모든 값들이 나올 확률이 같음)\n",
    "a=np.random.random((4,4))\n",
    "print_val(a)"
   ]
  },
  {
   "cell_type": "code",
   "execution_count": 30,
   "id": "baea75e4",
   "metadata": {},
   "outputs": [
    {
     "name": "stdout",
     "output_type": "stream",
     "text": [
      "Type: <type 'numpy.ndarray'>\n",
      "Shape: (4, 4)\n",
      "값:\n",
      "[[ 0.16897081  0.41286126 -0.89770828  0.66412014]\n",
      " [-0.70983223  0.0614764   0.16843541  0.38235981]\n",
      " [-0.53897207  0.0688937   0.47709513  0.07156448]\n",
      " [-0.98121661 -0.60695325 -0.30445395 -0.89497878]]\n",
      " \n"
     ]
    }
   ],
   "source": [
    "# 랜덤행렬(Gaussian: 0을 평균으로 하는 가우시안 분포를 따르는 랜덤값)\n",
    "a=np.random.randn(4,4)\n",
    "print_val(a)"
   ]
  },
  {
   "cell_type": "code",
   "execution_count": 31,
   "id": "3b43ff39",
   "metadata": {},
   "outputs": [
    {
     "name": "stdout",
     "output_type": "stream",
     "text": [
      "Type: <type 'numpy.ndarray'>\n",
      "Shape: (3, 4)\n",
      "값:\n",
      "[[ 1  2  3  4]\n",
      " [ 5  6  7  8]\n",
      " [ 9 10 11 12]]\n",
      " \n"
     ]
    }
   ],
   "source": [
    "# np array indexing\n",
    "a=np.array([[1,2,3,4], [5,6,7,8], [9,10,11,12]])\n",
    "print_val(a)"
   ]
  },
  {
   "cell_type": "code",
   "execution_count": 32,
   "id": "c16ba925",
   "metadata": {},
   "outputs": [
    {
     "name": "stdout",
     "output_type": "stream",
     "text": [
      "Type: <type 'numpy.ndarray'>\n",
      "Shape: (2, 2)\n",
      "값:\n",
      "[[2 3]\n",
      " [6 7]]\n",
      " \n"
     ]
    }
   ],
   "source": [
    "b=a[:2, 1:3] # 행 0~1, 열 1~2\n",
    "print_val(b)"
   ]
  },
  {
   "cell_type": "code",
   "execution_count": 33,
   "id": "984adb21",
   "metadata": {},
   "outputs": [
    {
     "name": "stdout",
     "output_type": "stream",
     "text": [
      "Type: <type 'numpy.ndarray'>\n",
      "Shape: (4,)\n",
      "값:\n",
      "[5 6 7 8]\n",
      " \n"
     ]
    }
   ],
   "source": [
    "# 행렬의 n번째 행 얻기\n",
    "row1=a[1, :] # 1번째 행\n",
    "print_val(row1)"
   ]
  },
  {
   "cell_type": "code",
   "execution_count": 34,
   "id": "ea22c16c",
   "metadata": {},
   "outputs": [
    {
     "name": "stdout",
     "output_type": "stream",
     "text": [
      "Type: <type 'numpy.ndarray'>\n",
      "Shape: (2, 2)\n",
      "값:\n",
      "[[ 6.  8.]\n",
      " [10. 12.]]\n",
      " \n",
      "Type: <type 'numpy.ndarray'>\n",
      "Shape: (2, 2)\n",
      "값:\n",
      "[[ 6.  8.]\n",
      " [10. 12.]]\n",
      " \n"
     ]
    }
   ],
   "source": [
    "# 행렬의 원소별 연산 \n",
    "m1=np.array([[1,2], [3,4]], dtype=np.float64)\n",
    "m2=np.array([[5,6], [7,8]], dtype=np.float64)\n",
    "\n",
    "# elementwise sum\n",
    "print_val(m1+m2)\n",
    "print_val(np.add(m1,m2))"
   ]
  },
  {
   "cell_type": "code",
   "execution_count": 35,
   "id": "b851f248",
   "metadata": {},
   "outputs": [
    {
     "name": "stdout",
     "output_type": "stream",
     "text": [
      "Type: <type 'numpy.ndarray'>\n",
      "Shape: (2, 2)\n",
      "값:\n",
      "[[ 5. 12.]\n",
      " [21. 32.]]\n",
      " \n",
      "Type: <type 'numpy.ndarray'>\n",
      "Shape: (2, 2)\n",
      "값:\n",
      "[[ 5. 12.]\n",
      " [21. 32.]]\n",
      " \n",
      "Type: <type 'numpy.ndarray'>\n",
      "Shape: (2, 2)\n",
      "값:\n",
      "[[-4. -4.]\n",
      " [-4. -4.]]\n",
      " \n",
      "Type: <type 'numpy.ndarray'>\n",
      "Shape: (2, 2)\n",
      "값:\n",
      "[[-4. -4.]\n",
      " [-4. -4.]]\n",
      " \n"
     ]
    }
   ],
   "source": [
    "# elementwise product\n",
    "print_val(m1*m2)\n",
    "print_val(np.multiply(m1,m2))\n",
    "\n",
    "# elementwise difference\n",
    "print_val(m1-m2)\n",
    "print_val(np.subtract(m1,m2))"
   ]
  },
  {
   "cell_type": "code",
   "execution_count": 33,
   "id": "4ac9a19e",
   "metadata": {},
   "outputs": [
    {
     "name": "stdout",
     "output_type": "stream",
     "text": [
      "Type: <type 'numpy.ndarray'>\n",
      "Shape: (2, 2)\n",
      "값:\n",
      "[[0.2        0.33333333]\n",
      " [0.42857143 0.5       ]]\n",
      " \n",
      "Type: <type 'numpy.ndarray'>\n",
      "Shape: (2, 2)\n",
      "값:\n",
      "[[0.2        0.33333333]\n",
      " [0.42857143 0.5       ]]\n",
      " \n"
     ]
    }
   ],
   "source": [
    "# elementwise division\n",
    "print_val(m1/m2)\n",
    "print_val(np.divide(m1,m2))"
   ]
  },
  {
   "cell_type": "code",
   "execution_count": 34,
   "id": "990c660e",
   "metadata": {},
   "outputs": [
    {
     "name": "stdout",
     "output_type": "stream",
     "text": [
      "Type: <type 'numpy.ndarray'>\n",
      "Shape: (2, 2)\n",
      "값:\n",
      "[[1.         1.41421356]\n",
      " [1.73205081 2.        ]]\n",
      " \n"
     ]
    }
   ],
   "source": [
    "# elementwise root\n",
    "print_val(np.sqrt(m1))"
   ]
  },
  {
   "cell_type": "code",
   "execution_count": 24,
   "id": "af0fe4cf",
   "metadata": {},
   "outputs": [
    {
     "name": "stdout",
     "output_type": "stream",
     "text": [
      "Type: <type 'numpy.ndarray'>\n",
      "Shape: (2, 2)\n",
      "값:\n",
      "[[1 2]\n",
      " [3 4]]\n",
      " \n",
      "Type: <type 'numpy.ndarray'>\n",
      "Shape: (2, 2)\n",
      "값:\n",
      "[[5 6]\n",
      " [7 8]]\n",
      " \n",
      "Type: <type 'numpy.ndarray'>\n",
      "Shape: (2,)\n",
      "값:\n",
      "[ 9 10]\n",
      " \n",
      "Type: <type 'numpy.ndarray'>\n",
      "Shape: (2,)\n",
      "값:\n",
      "[11 12]\n",
      " \n"
     ]
    }
   ],
   "source": [
    "# 행렬 연산\n",
    "m1=np.array([[1,2], [3,4]]) # (2,2)\n",
    "m2=np.array([[5,6], [7,8]]) # (2,2)\n",
    "v1=np.array([9,10]) # (2,1)  #[[9,10]] (1,2)\n",
    "v2=np.array([11, 12]) # (2,2)\n",
    "\n",
    "print_val(m1)\n",
    "print_val(m2)\n",
    "print_val(v1)\n",
    "print_val(v2)"
   ]
  },
  {
   "cell_type": "code",
   "execution_count": 6,
   "id": "7bc58c06",
   "metadata": {},
   "outputs": [
    {
     "name": "stdout",
     "output_type": "stream",
     "text": [
      "Type: <type 'numpy.int64'>\n",
      "Shape: ()\n",
      "값:\n",
      "219\n",
      " \n",
      "Type: <type 'numpy.int64'>\n",
      "Shape: ()\n",
      "값:\n",
      "219\n",
      " \n"
     ]
    }
   ],
   "source": [
    "print_val(v1.dot(v2)) # 벡터-벡터 연산\n",
    "print_val(np.dot(v1, v2))"
   ]
  },
  {
   "cell_type": "code",
   "execution_count": 7,
   "id": "e59eacb6",
   "metadata": {},
   "outputs": [
    {
     "name": "stdout",
     "output_type": "stream",
     "text": [
      "Type: <type 'numpy.ndarray'>\n",
      "Shape: (2,)\n",
      "값:\n",
      "[29 67]\n",
      " \n",
      "Type: <type 'numpy.ndarray'>\n",
      "Shape: (2,)\n",
      "값:\n",
      "[29 67]\n",
      " \n"
     ]
    }
   ],
   "source": [
    "# 벡터-행렬 연산\n",
    "print_val(m1.dot(v1)) # (2,2) x (2,1) → (2,1) \n",
    "print_val(np.dot(m1, v1))"
   ]
  },
  {
   "cell_type": "code",
   "execution_count": 8,
   "id": "9f2f6e0f",
   "metadata": {},
   "outputs": [
    {
     "name": "stdout",
     "output_type": "stream",
     "text": [
      "Type: <type 'numpy.ndarray'>\n",
      "Shape: (2, 2)\n",
      "값:\n",
      "[[19 22]\n",
      " [43 50]]\n",
      " \n",
      "Type: <type 'numpy.ndarray'>\n",
      "Shape: (2, 2)\n",
      "값:\n",
      "[[19 22]\n",
      " [43 50]]\n",
      " \n"
     ]
    }
   ],
   "source": [
    "# 행렬-행렬 연산\n",
    "print_val(m1.dot(m2)) # (2,2) x (2,2) → (2,2) \n",
    "print_val(np.dot(m1, m2))"
   ]
  },
  {
   "cell_type": "code",
   "execution_count": 9,
   "id": "a1ed22fb",
   "metadata": {},
   "outputs": [
    {
     "name": "stdout",
     "output_type": "stream",
     "text": [
      "Type: <type 'numpy.ndarray'>\n",
      "Shape: (2, 2)\n",
      "값:\n",
      "[[1 2]\n",
      " [3 4]]\n",
      " \n",
      "Type: <type 'numpy.ndarray'>\n",
      "Shape: (2, 2)\n",
      "값:\n",
      "[[1 3]\n",
      " [2 4]]\n",
      " \n"
     ]
    }
   ],
   "source": [
    "# 전치 행렬(Transpose)\n",
    "print_val(m1)\n",
    "print_val(m1.T)"
   ]
  },
  {
   "cell_type": "code",
   "execution_count": 10,
   "id": "f92a7731",
   "metadata": {},
   "outputs": [
    {
     "name": "stdout",
     "output_type": "stream",
     "text": [
      "Type: <type 'numpy.int64'>\n",
      "Shape: ()\n",
      "값:\n",
      "10\n",
      " \n",
      "Type: <type 'numpy.ndarray'>\n",
      "Shape: (2,)\n",
      "값:\n",
      "[4 6]\n",
      " \n",
      "Type: <type 'numpy.ndarray'>\n",
      "Shape: (2,)\n",
      "값:\n",
      "[3 7]\n",
      " \n"
     ]
    }
   ],
   "source": [
    "# 합\n",
    "print_val(np.sum(m1)) # 행렬의 모든 원소의 합 \n",
    "print_val(np.sum(m1, axis=0)) # shape[0] (행, x축)을 압축시키자. (2,2) -> (2, )\n",
    "print_val(np.sum(m1, axis=1)) # shape[1] (열)을 압축시키자. (2,2) -> (2, )"
   ]
  },
  {
   "cell_type": "code",
   "execution_count": 12,
   "id": "4f319c8e",
   "metadata": {},
   "outputs": [
    {
     "name": "stdout",
     "output_type": "stream",
     "text": [
      "[[1 2 3]\n",
      " [4 5 6]]\n",
      "(2, 3)\n"
     ]
    }
   ],
   "source": [
    "m1=np.array([[1,2,3], [4,5,6]])\n",
    "print m1\n",
    "print m1.shape #(2,3)"
   ]
  },
  {
   "cell_type": "code",
   "execution_count": 17,
   "id": "816ecf70",
   "metadata": {},
   "outputs": [
    {
     "name": "stdout",
     "output_type": "stream",
     "text": [
      "21\n",
      "[5 7 9]\n",
      "[ 6 15]\n"
     ]
    }
   ],
   "source": [
    "print np.sum(m1)\n",
    "print np.sum(m1, axis=0)\n",
    "print np.sum(m1, axis=1)"
   ]
  },
  {
   "cell_type": "code",
   "execution_count": 2,
   "id": "b25d2166",
   "metadata": {},
   "outputs": [
    {
     "name": "stdout",
     "output_type": "stream",
     "text": [
      "Type: <type 'numpy.ndarray'>\n",
      "Shape: (4, 3)\n",
      "값:\n",
      "[[ 1  2  3]\n",
      " [ 4  5  6]\n",
      " [ 7  8  9]\n",
      " [10 11 12]]\n",
      " \n",
      "Type: <type 'numpy.ndarray'>\n",
      "Shape: (4, 3)\n",
      "값:\n",
      "[[0 0 0]\n",
      " [0 0 0]\n",
      " [0 0 0]\n",
      " [0 0 0]]\n",
      " \n"
     ]
    }
   ],
   "source": [
    "# zeros-like\n",
    "m1=np.array([[1,2,3],\n",
    "            [4,5,6],\n",
    "            [7,8,9],\n",
    "            [10,11,12]])\n",
    "m2=np.zeros_like(m1) # m1과 같은 형태의 0으로 이루어진 np array\n",
    "print_val(m1)\n",
    "print_val(m2)"
   ]
  },
  {
   "cell_type": "code",
   "execution_count": 4,
   "id": "970a9937",
   "metadata": {},
   "outputs": [
    {
     "data": {
      "text/plain": [
       "[<matplotlib.lines.Line2D at 0x7f2ea709cb50>]"
      ]
     },
     "execution_count": 4,
     "metadata": {},
     "output_type": "execute_result"
    },
    {
     "data": {
      "image/png": "[encoded data removed]",
      "text/plain": [
       "<Figure size 432x288 with 1 Axes>"
      ]
     },
     "metadata": {
      "needs_background": "light"
     },
     "output_type": "display_data"
    }
   ],
   "source": [
    "# Matplot library\n",
    "\n",
    "import matplotlib.pyplot as plt\n",
    "%matplotlib inline\n",
    "\n",
    "# sin 커브\n",
    "x=np.arange(0, 10, 0.1) # 0~10까지 0.1 간격의 숫자 배열\n",
    "y=np.sin(x)\n",
    "\n",
    "plt.plot(x, y)"
   ]
  },
  {
   "cell_type": "code",
   "execution_count": 5,
   "id": "8940a7f1",
   "metadata": {},
   "outputs": [
    {
     "data": {
      "image/png": "[encoded data removed]",
      "text/plain": [
       "<Figure size 432x288 with 1 Axes>"
      ]
     },
     "metadata": {
      "needs_background": "light"
     },
     "output_type": "display_data"
    }
   ],
   "source": [
    "# 한 번에 두 개 그래프 그리기\n",
    "y_sin=np.sin(x)\n",
    "y_cos=np.cos(x)\n",
    "\n",
    "plt.plot(x, y_sin)\n",
    "plt.plot(x, y_cos)\n",
    "plt.xlabel('x axis label')\n",
    "plt.ylabel('y axis label')\n",
    "plt.title('sin and cos')\n",
    "plt.legend(['sin','cos'])\n",
    "\n",
    "plt.show()"
   ]
  },
  {
   "cell_type": "code",
   "execution_count": 6,
   "id": "730ea0c7",
   "metadata": {},
   "outputs": [
    {
     "data": {
      "image/png": "[encoded data removed]",
      "text/plain": [
       "<Figure size 432x288 with 2 Axes>"
      ]
     },
     "metadata": {
      "needs_background": "light"
     },
     "output_type": "display_data"
    }
   ],
   "source": [
    "# Subplot\n",
    "\n",
    "plt.subplot(2,1,1) # (2,1) 형태 플랏의 첫 번째 자리에 그리겠다\n",
    "plt.plot(x, y_sin)\n",
    "plt.title('sin')\n",
    "\n",
    "plt.subplot(2,1,2) \n",
    "plt.plot(x, y_cos)\n",
    "plt.title('cos')\n",
    "\n",
    "plt.show()"
   ]
  },
  {
   "cell_type": "code",
   "execution_count": 36,
   "id": "075e2af3",
   "metadata": {},
   "outputs": [
    {
     "name": "stdout",
     "output_type": "stream",
     "text": [
      "Type: <class 'torch.Tensor'>\n",
      "Shape: torch.Size([2, 3, 2])\n",
      "값:\n",
      "tensor([[[0.8823, 0.6805],\n",
      "         [0.3345, 0.8513],\n",
      "         [0.9398, 0.0417]],\n",
      "\n",
      "        [[0.1935, 0.4071],\n",
      "         [0.4229, 0.9006],\n",
      "         [0.5002, 0.7458]]])\n",
      " \n",
      "Type: <class 'torch.Tensor'>\n",
      "Shape: torch.Size([2, 3])\n",
      "값:\n",
      "tensor([[ 0.8788, -0.8630,  2.7467],\n",
      "        [ 0.5986,  1.1564, -0.9228]])\n",
      " \n"
     ]
    }
   ],
   "source": [
    "# 파이토치 기초\n",
    "\n",
    "import torch\n",
    "\n",
    "x=torch.rand(2,3,2)\n",
    "print_val(x)\n",
    "\n",
    "x=torch.randn(2,3)\n",
    "print_val(x)\n"
   ]
  },
  {
   "cell_type": "code",
   "execution_count": 10,
   "id": "cfd376b5",
   "metadata": {},
   "outputs": [
    {
     "name": "stdout",
     "output_type": "stream",
     "text": [
      "Type: <class 'torch.Tensor'>\n",
      "Shape: torch.Size([4])\n",
      "값:\n",
      "tensor([3, 2, 0, 1])\n",
      " \n"
     ]
    }
   ],
   "source": [
    "x=torch.randperm(4) # 0~n-1까지 값을 원소로 갖는 배열 → 랜덤배열\n",
    "print_val(x)"
   ]
  },
  {
   "cell_type": "code",
   "execution_count": 11,
   "id": "8a2dd9b3",
   "metadata": {},
   "outputs": [
    {
     "name": "stdout",
     "output_type": "stream",
     "text": [
      "Type: <class 'torch.Tensor'>\n",
      "Shape: torch.Size([6])\n",
      "값:\n",
      "tensor([0.0000, 0.5000, 1.0000, 1.5000, 2.0000, 2.5000])\n",
      " \n"
     ]
    }
   ],
   "source": [
    "# [start, end) 구간을 step 단위로 나눠서 배열로 생성\n",
    "x=torch.arange(0,3,step=0.5)\n",
    "print_val(x)"
   ]
  },
  {
   "cell_type": "code",
   "execution_count": 13,
   "id": "cc68188b",
   "metadata": {},
   "outputs": [
    {
     "name": "stdout",
     "output_type": "stream",
     "text": [
      "Type: <class 'torch.Tensor'>\n",
      "Shape: torch.Size([3, 4])\n",
      "값:\n",
      "tensor([[1., 1., 1., 1.],\n",
      "        [1., 1., 1., 1.],\n",
      "        [1., 1., 1., 1.]])\n",
      " \n",
      "Type: <class 'torch.Tensor'>\n",
      "Shape: torch.Size([3, 4])\n",
      "값:\n",
      "tensor([[0., 0., 0., 0.],\n",
      "        [0., 0., 0., 0.],\n",
      "        [0., 0., 0., 0.]])\n",
      " \n"
     ]
    }
   ],
   "source": [
    "print_val(torch.ones(3,4))\n",
    "print_val(torch.zeros(3,4))"
   ]
  },
  {
   "cell_type": "code",
   "execution_count": 14,
   "id": "46539781",
   "metadata": {},
   "outputs": [
    {
     "name": "stdout",
     "output_type": "stream",
     "text": [
      "Type: <class 'torch.Tensor'>\n",
      "Shape: torch.Size([2, 4])\n",
      "값:\n",
      "tensor([[ 1.4013e-45,  0.0000e+00, -1.3374e+20,  4.5623e-41],\n",
      "        [ 1.4013e-45,  4.5623e-41,  0.0000e+00,  0.0000e+00]])\n",
      " \n"
     ]
    }
   ],
   "source": [
    "print_val(torch.Tensor(2,4))"
   ]
  },
  {
   "cell_type": "code",
   "execution_count": 16,
   "id": "44cb8f13",
   "metadata": {},
   "outputs": [
    {
     "name": "stdout",
     "output_type": "stream",
     "text": [
      "Type: <class 'torch.Tensor'>\n",
      "Shape: torch.Size([2])\n",
      "값:\n",
      "tensor([2., 3.])\n",
      " \n",
      "Type: <class 'torch.Tensor'>\n",
      "Shape: torch.Size([2, 2])\n",
      "값:\n",
      "tensor([[2., 3.],\n",
      "        [3., 4.]])\n",
      " \n"
     ]
    }
   ],
   "source": [
    "print_val(torch.Tensor([2,3]))\n",
    "print_val(torch.Tensor([[2,3], [3, 4]]))"
   ]
  },
  {
   "cell_type": "code",
   "execution_count": 17,
   "id": "a3184ae2",
   "metadata": {},
   "outputs": [
    {
     "name": "stdout",
     "output_type": "stream",
     "text": [
      "Type: <class 'torch.Tensor'>\n",
      "Shape: torch.Size([2, 3])\n",
      "값:\n",
      "tensor([[-5.3566e+19,  4.5623e-41, -2.3233e+21],\n",
      "        [ 3.0667e-41, -2.8175e+12,  4.5623e-41]])\n",
      " \n",
      "Type: <class 'torch.Tensor'>\n",
      "Shape: torch.Size([2, 3])\n",
      "값:\n",
      "tensor([[-2147483648,           0, -2147483648],\n",
      "        [          0, -2147483648,           0]], dtype=torch.int32)\n",
      " \n"
     ]
    }
   ],
   "source": [
    "# 텐서 타입 변환\n",
    "\n",
    "x=torch.FloatTensor(2,3)\n",
    "print_val(x)\n",
    "\n",
    "x=x.type_as(torch.IntTensor())\n",
    "print_val(x)"
   ]
  },
  {
   "cell_type": "code",
   "execution_count": 18,
   "id": "37973114",
   "metadata": {},
   "outputs": [
    {
     "data": {
      "text/plain": [
       "torch.Size([3, 4, 5])"
      ]
     },
     "execution_count": 18,
     "metadata": {},
     "output_type": "execute_result"
    }
   ],
   "source": [
    "# 텐서 크기 변환\n",
    "torch.FloatTensor(3,4,5).size()\n"
   ]
  },
  {
   "cell_type": "code",
   "execution_count": 19,
   "id": "136c0ed2",
   "metadata": {},
   "outputs": [
    {
     "name": "stdout",
     "output_type": "stream",
     "text": [
      "Type: <type 'numpy.ndarray'>\n",
      "Shape: (2, 3)\n",
      "값:\n",
      "[[4625534587281552180 4625534587281552180 4625534587281552180]\n",
      " [4625534587281552180 4625534587281552180 4625534587281552180]]\n",
      " \n",
      "Type: <class 'torch.Tensor'>\n",
      "Shape: torch.Size([2, 3])\n",
      "값:\n",
      "tensor([[4625534587281552180, 4625534587281552180, 4625534587281552180],\n",
      "        [4625534587281552180, 4625534587281552180, 4625534587281552180]])\n",
      " \n"
     ]
    }
   ],
   "source": [
    "# numpy array → torch tensor\n",
    "\n",
    "import numpy as np\n",
    "np_x=np.ndarray((2,3), dtype=int)\n",
    "print_val(np_x)\n",
    "\n",
    "x=torch.from_numpy(np_x)\n",
    "print_val(x)\n"
   ]
  },
  {
   "cell_type": "code",
   "execution_count": 9,
   "id": "d2ce20ca",
   "metadata": {},
   "outputs": [
    {
     "name": "stdout",
     "output_type": "stream",
     "text": [
      "torch.Size([1, 28, 28]) 5\n",
      "torch.Size([1, 28, 28]) 0\n",
      "60000\n",
      "mnist_train 길이: 60000\n",
      "5\n",
      "torch.Size([1, 28, 28])\n"
     ]
    },
    {
     "data": {
      "image/png": "[encoded data removed]",
      "text/plain": [
       "<Figure size 432x288 with 1 Axes>"
      ]
     },
     "metadata": {
      "needs_background": "light"
     },
     "output_type": "display_data"
    },
    {
     "data": {
      "image/png": "[encoded data removed]",
      "text/plain": [
       "<Figure size 432x288 with 1 Axes>"
      ]
     },
     "metadata": {
      "needs_background": "light"
     },
     "output_type": "display_data"
    },
    {
     "data": {
      "image/png": "[encoded data removed]",
      "text/plain": [
       "<Figure size 432x288 with 1 Axes>"
      ]
     },
     "metadata": {
      "needs_background": "light"
     },
     "output_type": "display_data"
    }
   ],
   "source": [
    "import torchvision.datasets as dset\n",
    "import torchvision.transforms as transforms\n",
    "from torch.utils.data import DataLoader\n",
    "from torch.autograd import Variable\n",
    "import matplotlib.pyplot as plt\n",
    "%matplotlib inline\n",
    "\n",
    "# 1. MNIST 로드\n",
    "mnist_train=dset.MNIST(\"\", train=True, transform=transforms.ToTensor(),\n",
    "                      target_transform=None, download=True)\n",
    "\n",
    "# 2. 그려보기\n",
    "# MNIST data 하나 형태 출력\n",
    "image, label = mnist_train.__getitem__(0)\n",
    "print image.size(), label\n",
    "\n",
    "image, label=mnist_train[1]\n",
    "print image.size(), label\n",
    "\n",
    "print mnist_train.__len__()\n",
    "print \"mnist_train 길이:\", len(mnist_train)\n",
    "\n",
    "# 그리기\n",
    "print mnist_train[0][1] # label\n",
    "print mnist_train[0][0].size() # image\n",
    "\n",
    "for i in range(3):\n",
    "    img=mnist_train[i][0].numpy() # image 타입을 numpy로 변환 (1, 28, 28)\n",
    "    # print \"label:\", mnist_train[i][1]\n",
    "    plt.title(\"label: %d\" %mnist_train[i][1])\n",
    "    plt.imshow(img[0], cmap='gray')\n",
    "    plt.show()"
   ]
  },
  {
   "cell_type": "code",
   "execution_count": 11,
   "id": "b9fd34a1",
   "metadata": {},
   "outputs": [
    {
     "name": "stdout",
     "output_type": "stream",
     "text": [
      "mnist_train 길이: 60000\n",
      "mnist_test 길이: 10000\n",
      "image data 형태: torch.Size([1, 28, 28])\n",
      "label:  5\n"
     ]
    },
    {
     "data": {
      "image/png": "[encoded data removed]",
      "text/plain": [
       "<Figure size 432x288 with 1 Axes>"
      ]
     },
     "metadata": {
      "needs_background": "light"
     },
     "output_type": "display_data"
    }
   ],
   "source": [
    "# 1) MNIST train, test dataset 가져오기\n",
    "# \"\": 현재 폴더에 MNIST 있음\n",
    "mnist_train=dset.MNIST(\"\", train=True, transform=transforms.ToTensor(), # train 용\n",
    "                       target_transform=None, download=True)\n",
    "mnist_test=dset.MNIST(\"\", train=False, transform=transforms.ToTensor(), # test 용\n",
    "                       target_transform=None, download=True)\n",
    "\n",
    "# 2). 대략적인 데이터 형태\n",
    "print \"mnist_train 길이:\", len(mnist_train)\n",
    "print \"mnist_test 길이:\", len(mnist_test)\n",
    "\n",
    "# 데이터 하나 형태\n",
    "image, label = mnist_train.__getitem__(0) # 0번째 데이터\n",
    "print \"image data 형태:\", image.size()\n",
    "print \"label: \", label\n",
    "\n",
    "# 그리기\n",
    "img=image.numpy() # image 타입을 numpy로 변환 (1, 28, 28)\n",
    "plt.title(\"label: %d\" %label)\n",
    "plt.imshow(img[0], cmap='gray')\n",
    "plt.show()"
   ]
  },
  {
   "cell_type": "code",
   "execution_count": 37,
   "id": "35671b0f",
   "metadata": {},
   "outputs": [],
   "source": [
    "# 3) 데이터 로드 함수\n",
    "batch_size=16\n",
    "\n",
    "train_loader = torch.utils.data.DataLoader(list(mnist_train)[:batch_size*100], batch_size =batch_size,\n",
    "                                           # mnist_train을 train 시키자.\n",
    "                                          shuffle=True, num_workers=2, drop_last=True) # batch_size만큼 나눌 때 나머지는 버리기\n",
    "\n",
    "test_loader = torch.utils.data.DataLoader(list(mnist_train)[:batch_size*100], batch_size =batch_size,\n",
    "                                           # mnist_train을 train 시키자.\n",
    "                                          shuffle=False, num_workers=2, drop_last=True)"
   ]
  },
  {
   "cell_type": "code",
   "execution_count": 39,
   "id": "8bd5ebeb",
   "metadata": {},
   "outputs": [
    {
     "name": "stdout",
     "output_type": "stream",
     "text": [
      "[0]\n",
      "한 번에 로드되는 데이터 크기:  16\n",
      "torch.Size([16, 28, 28])\n",
      "torch.Size([16])\n"
     ]
    },
    {
     "data": {
      "image/png": "[encoded data removed]",
      "text/plain": [
       "<Figure size 432x288 with 3 Axes>"
      ]
     },
     "metadata": {
      "needs_background": "light"
     },
     "output_type": "display_data"
    },
    {
     "name": "stdout",
     "output_type": "stream",
     "text": [
      "[1]\n",
      "한 번에 로드되는 데이터 크기:  16\n",
      "torch.Size([16, 28, 28])\n",
      "torch.Size([16])\n"
     ]
    },
    {
     "data": {
      "image/png": "[encoded data removed]",
      "text/plain": [
       "<Figure size 432x288 with 3 Axes>"
      ]
     },
     "metadata": {
      "needs_background": "light"
     },
     "output_type": "display_data"
    },
    {
     "name": "stdout",
     "output_type": "stream",
     "text": [
      "[2]\n",
      "한 번에 로드되는 데이터 크기:  16\n",
      "torch.Size([16, 28, 28])\n",
      "torch.Size([16])\n"
     ]
    },
    {
     "data": {
      "image/png": "[encoded data removed]",
      "text/plain": [
       "<Figure size 432x288 with 3 Axes>"
      ]
     },
     "metadata": {
      "needs_background": "light"
     },
     "output_type": "display_data"
    },
    {
     "name": "stdout",
     "output_type": "stream",
     "text": [
      "[3]\n",
      "한 번에 로드되는 데이터 크기:  16\n",
      "torch.Size([16, 28, 28])\n",
      "torch.Size([16])\n"
     ]
    },
    {
     "data": {
      "image/png": "[encoded data removed]",
      "text/plain": [
       "<Figure size 432x288 with 3 Axes>"
      ]
     },
     "metadata": {
      "needs_background": "light"
     },
     "output_type": "display_data"
    },
    {
     "name": "stdout",
     "output_type": "stream",
     "text": [
      "[4]\n",
      "한 번에 로드되는 데이터 크기:  16\n",
      "torch.Size([16, 28, 28])\n",
      "torch.Size([16])\n"
     ]
    },
    {
     "data": {
      "image/png": "[encoded data removed]",
      "text/plain": [
       "<Figure size 432x288 with 3 Axes>"
      ]
     },
     "metadata": {
      "needs_background": "light"
     },
     "output_type": "display_data"
    },
    {
     "name": "stdout",
     "output_type": "stream",
     "text": [
      "[5]\n",
      "한 번에 로드되는 데이터 크기:  16\n",
      "torch.Size([16, 28, 28])\n",
      "torch.Size([16])\n"
     ]
    },
    {
     "data": {
      "image/png": "[encoded data removed]",
      "text/plain": [
       "<Figure size 432x288 with 3 Axes>"
      ]
     },
     "metadata": {
      "needs_background": "light"
     },
     "output_type": "display_data"
    }
   ],
   "source": [
    "# 4) 데이터 로드함수 이해하기\n",
    "n=3 # 샘플로 그려볼 데이터 개수\n",
    "for i, [imgs, labels] in enumerate(test_loader):\n",
    "    if i >5:\n",
    "        break\n",
    "    print \"[%d]\" %i\n",
    "    print \"한 번에 로드되는 데이터 크기: \", len(imgs)\n",
    "    \n",
    "    # GPU에 로드되기 위함. 만약 CPU로 설정되어 있다면 자동으로 CPU로 로드됨\n",
    "    x = Variable(imgs)#.cuda()   # (batch_size, 1, 28, 28)\n",
    "    x = x.reshape((x.shape[0], x.shape[2], x.shape[3]))   # (batch_size, 1, 28, 28) → (batch_size, 28, 28)\n",
    "    y_=Variable(labels)#.cuda()   # (batch_size)\n",
    "    \n",
    "    print x.shape\n",
    "    print y_.shape\n",
    "    \n",
    "    # 그리기\n",
    "    for j in range(n):\n",
    "        img=imgs[j].numpy() # image 타입을 numpy로 변환 (1, 28, 28)\n",
    "        img=img.reshape((img.shape[1], img.shape[2]))  # (1, 28, 28) → (28, 28)\n",
    "        #print img.shape\n",
    "        \n",
    "        plt.subplot(1, n, j+1) # (1,3) 형태 plot의 j번째 자리에 그리겠다. \n",
    "        plt.imshow(img, cmap='gray')\n",
    "        plt.title(\"label: %d\" %labels[j])\n",
    "    plt.show()\n",
    "    "
   ]
  },
  {
   "cell_type": "code",
   "execution_count": null,
   "id": "d8afbed2",
   "metadata": {},
   "outputs": [],
   "source": []
  }
 ],
 "metadata": {
  "kernelspec": {
   "display_name": "conda_pytorch_p27",
   "language": "python",
   "name": "conda_pytorch_p27"
  },
  "language_info": {
   "codemirror_mode": {
    "name": "ipython",
    "version": 2
   },
   "file_extension": ".py",
   "mimetype": "text/x-python",
   "name": "python",
   "nbconvert_exporter": "python",
   "pygments_lexer": "ipython2",
   "version": "2.7.16"
  }
 },
 "nbformat": 4,
 "nbformat_minor": 5
}
